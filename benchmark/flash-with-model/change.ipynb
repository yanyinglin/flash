{
 "cells": [
  {
   "cell_type": "code",
   "execution_count": 3,
   "metadata": {},
   "outputs": [
    {
     "name": "stdout",
     "output_type": "stream",
     "text": [
      "{'version': 1.0, 'provider': {'name': 'openfaas', 'gateway': 'http://serverless.siat.ac.cn:31112'}, 'functions': {'resnet-50-fwm': {'namespace': 'flash', 'lang': 'flash', 'handler': './resnet-50', 'image': 'k.harbor.siat.ac.cn/openfaas/gss-watchdog2-resnet-50-fwm:1.0.3', 'requests': {'cpu': '1000m', 'memory': '3Gi'}, 'limits': {'cpu': '2000m', 'memory': '4Gi'}, 'environment': {'read_timeout': '30s', 'write_timeout': '30s', 'exec_timeout': '30s', 'debug': 'false'}}, 'resnet-101-fwm': {'namespace': 'flash', 'lang': 'flash', 'handler': './resnet-101', 'image': 'k.harbor.siat.ac.cn/openfaas/gss-watchdog2-resnet-101-fwm:1.0.3', 'requests': {'cpu': '1000m', 'memory': '3Gi'}, 'limits': {'cpu': '2000m', 'memory': '4Gi'}, 'environment': {'read_timeout': '30s', 'write_timeout': '30s', 'exec_timeout': '30s', 'debug': 'false'}}, 'resnet-152-fwm': {'namespace': 'flash', 'lang': 'flash', 'handler': './resnet-152', 'image': 'k.harbor.siat.ac.cn/openfaas/gss-watchdog2-resnet-152-fwm:1.0.3', 'requests': {'cpu': '1000m', 'memory': '3Gi'}, 'limits': {'cpu': '2000m', 'memory': '4Gi'}, 'environment': {'read_timeout': '30s', 'write_timeout': '30s', 'exec_timeout': '30s', 'debug': 'false'}}, 'vggnet-11-fwm': {'namespace': 'flash', 'lang': 'flash', 'handler': './vggnet-11', 'image': 'k.harbor.siat.ac.cn/openfaas/gss-watchdog2-vggnet-11-fwm:1.0.3', 'requests': {'cpu': '1000m', 'memory': '3Gi'}, 'limits': {'cpu': '2000m', 'memory': '4Gi'}, 'environment': {'read_timeout': '30s', 'write_timeout': '30s', 'exec_timeout': '30s', 'debug': 'false'}}, 'shufflenet-fwm': {'namespace': 'flash', 'lang': 'flash', 'handler': './shufflenet', 'image': 'k.harbor.siat.ac.cn/openfaas/gss-watchdog2-shufflenet-fwm:1.0.3', 'requests': {'cpu': '1000m', 'memory': '3Gi'}, 'limits': {'cpu': '2000m', 'memory': '4Gi'}, 'environment': {'read_timeout': '30s', 'write_timeout': '30s', 'exec_timeout': '30s', 'debug': 'false'}}, 'bert-fwm': {'namespace': 'flash', 'lang': 'flash', 'handler': './bert', 'image': 'k.harbor.siat.ac.cn/openfaas/gss-watchdog2-bert-fwm:1.0.3', 'requests': {'cpu': '1000m', 'memory': '3Gi'}, 'limits': {'cpu': '2000m', 'memory': '4Gi'}, 'environment': {'read_timeout': '30s', 'write_timeout': '30s', 'exec_timeout': '30s', 'debug': 'false'}}, 'bert-qa-fwm': {'namespace': 'flash', 'lang': 'flash', 'handler': './bert-qa', 'image': 'k.harbor.siat.ac.cn/openfaas/gss-watchdog2-bert-qa-fwm:1.0.3', 'requests': {'cpu': '1000m', 'memory': '3Gi'}, 'limits': {'cpu': '2000m', 'memory': '4Gi'}, 'environment': {'read_timeout': '30s', 'write_timeout': '30s', 'exec_timeout': '30s', 'debug': 'false'}}, 'labse-fwm': {'namespace': 'flash', 'lang': 'flash', 'handler': './labse', 'image': 'k.harbor.siat.ac.cn/openfaas/gss-watchdog2-labse-fwm:1.0.3', 'requests': {'cpu': '1000m', 'memory': '3Gi'}, 'limits': {'cpu': '2000m', 'memory': '4Gi'}, 'environment': {'read_timeout': '30s', 'write_timeout': '30s', 'exec_timeout': '30s', 'debug': 'false'}}}}\n",
      "{'functions': {'bert-fwm': {'environment': {'debug': 'false', 'exec_timeout': '30s', 'read_timeout': '30s', 'write_timeout': '30s'}, 'handler': './bert', 'image': 'k.harbor.siat.ac.cn/openfaas/gss-watchdog2-bert-fwm:1.0.3', 'lang': 'flash', 'limits': {'cpu': '2000m', 'memory': '4Gi'}, 'namespace': 'flash', 'requests': {'cpu': '1000m', 'memory': '3Gi'}}, 'bert-qa-fwm': {'environment': {'debug': 'false', 'exec_timeout': '30s', 'read_timeout': '30s', 'write_timeout': '30s'}, 'handler': './bert-qa', 'image': 'k.harbor.siat.ac.cn/openfaas/gss-watchdog2-bert-qa-fwm:1.0.3', 'lang': 'flash', 'limits': {'cpu': '2000m', 'memory': '4Gi'}, 'namespace': 'flash', 'requests': {'cpu': '1000m', 'memory': '3Gi'}}, 'labse-fwm': {'environment': {'debug': 'false', 'exec_timeout': '30s', 'read_timeout': '30s', 'write_timeout': '30s'}, 'handler': './labse', 'image': 'k.harbor.siat.ac.cn/openfaas/gss-watchdog2-labse-fwm:1.0.3', 'lang': 'flash', 'limits': {'cpu': '2000m', 'memory': '4Gi'}, 'namespace': 'flash', 'requests': {'cpu': '1000m', 'memory': '3Gi'}}, 'resnet-101-fwm': {'environment': {'debug': 'false', 'exec_timeout': '30s', 'read_timeout': '30s', 'write_timeout': '30s'}, 'handler': './resnet-101', 'image': 'k.harbor.siat.ac.cn/openfaas/gss-watchdog2-resnet-101-fwm:1.0.3', 'lang': 'flash', 'limits': {'cpu': '2000m', 'memory': '4Gi'}, 'namespace': 'flash', 'requests': {'cpu': '1000m', 'memory': '3Gi'}}, 'resnet-152-fwm': {'environment': {'debug': 'false', 'exec_timeout': '30s', 'read_timeout': '30s', 'write_timeout': '30s'}, 'handler': './resnet-152', 'image': 'k.harbor.siat.ac.cn/openfaas/gss-watchdog2-resnet-152-fwm:1.0.3', 'lang': 'flash', 'limits': {'cpu': '2000m', 'memory': '4Gi'}, 'namespace': 'flash', 'requests': {'cpu': '1000m', 'memory': '3Gi'}}, 'resnet-50-fwm': {'environment': {'debug': 'false', 'exec_timeout': '30s', 'read_timeout': '30s', 'write_timeout': '30s'}, 'handler': './resnet-50', 'image': 'k.harbor.siat.ac.cn/openfaas/gss-watchdog2-resnet-50-fwm:1.0.3', 'lang': 'flash', 'limits': {'cpu': '2000m', 'memory': '4Gi'}, 'namespace': 'flash', 'requests': {'cpu': '2500m', 'memory': '3Gi'}}, 'shufflenet-fwm': {'environment': {'debug': 'false', 'exec_timeout': '30s', 'read_timeout': '30s', 'write_timeout': '30s'}, 'handler': './shufflenet', 'image': 'k.harbor.siat.ac.cn/openfaas/gss-watchdog2-shufflenet-fwm:1.0.3', 'lang': 'flash', 'limits': {'cpu': '2000m', 'memory': '4Gi'}, 'namespace': 'flash', 'requests': {'cpu': '1000m', 'memory': '3Gi'}}, 'vggnet-11-fwm': {'environment': {'debug': 'false', 'exec_timeout': '30s', 'read_timeout': '30s', 'write_timeout': '30s'}, 'handler': './vggnet-11', 'image': 'k.harbor.siat.ac.cn/openfaas/gss-watchdog2-vggnet-11-fwm:1.0.3', 'lang': 'flash', 'limits': {'cpu': '2000m', 'memory': '4Gi'}, 'namespace': 'flash', 'requests': {'cpu': '1000m', 'memory': '3Gi'}}}, 'provider': {'gateway': 'http://serverless.siat.ac.cn:31112', 'name': 'openfaas'}, 'version': 1.0}\n"
     ]
    }
   ],
   "source": [
    "import yaml\n",
    "import os\n",
    "\n",
    "def update_cpu_request(config_path, model_name, cpu_request):\n",
    "    # 读取配置文件\n",
    "    with open(config_path, 'r') as config_file:\n",
    "        config = yaml.safe_load(config_file)\n",
    "        print(config)\n",
    "    # 更新配置文件中的 CPU 请求值\n",
    "    functions = config.get('functions', {})\n",
    "    function = functions.get(model_name, {})\n",
    "    requests = function.get('requests', {})\n",
    "    requests['cpu'] =  cpu_request\n",
    "    functions[model_name] = function\n",
    "    config['functions'] = functions\n",
    "    \n",
    "    # 将更新后的配置写回文件\n",
    "    with open(config_path, 'w') as config_file:\n",
    "        yaml.dump(config, config_file, default_flow_style=False)\n",
    "    with open(config_path, 'r') as config_file:\n",
    "        config = yaml.safe_load(config_file)\n",
    "        print(config)\n",
    "# 要更新的配置文件路径和函数信息\n",
    "config_path = '/home/flash/benchmark/flash-with-model/config.yml'\n",
    "model_name = 'resnet-50-fwm'\n",
    "cpu_request = '2500m'\n",
    "\n",
    "update_cpu_request(config_path, model_name, cpu_request)\n"
   ]
  }
 ],
 "metadata": {
  "kernelspec": {
   "display_name": "Python 3",
   "language": "python",
   "name": "python3"
  },
  "language_info": {
   "codemirror_mode": {
    "name": "ipython",
    "version": 3
   },
   "file_extension": ".py",
   "mimetype": "text/x-python",
   "name": "python",
   "nbconvert_exporter": "python",
   "pygments_lexer": "ipython3",
   "version": "3.10.6"
  },
  "orig_nbformat": 4
 },
 "nbformat": 4,
 "nbformat_minor": 2
}
